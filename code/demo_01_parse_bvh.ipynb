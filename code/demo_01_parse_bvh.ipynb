{
 "cells": [
  {
   "cell_type": "markdown",
   "metadata": {},
   "source": [
    "### Parse position / rotation values of a bvh file"
   ]
  },
  {
   "cell_type": "code",
   "execution_count": 3,
   "metadata": {},
   "outputs": [
    {
     "name": "stdout",
     "output_type": "stream",
     "text": [
      "Reading BVH file...\n",
      "done\n",
      "Building skeleton...\n",
      "done\n",
      "Analyzing frames...\n",
      "done\n",
      "Position shape (entire sequence):  (246, 76, 3)\n",
      "Rotation shape (entire sequence):  (246, 76, 3)\n",
      "Position shape (single frame):  (76, 3)\n",
      "Rotation shape (single frame):  (76, 3)\n"
     ]
    }
   ],
   "source": [
    "# code edited from https://github.com/tekulvw/bvh-converter\n",
    "\n",
    "import numpy as np\n",
    "from bvh.skeleton import process_bvhfile, process_bvhkeyframe\n",
    "\n",
    "mocap = process_bvhfile(\"../data/bvh/VAAI_DIRECT_11_01_b_M1.bvh\", DEBUG=False)\n",
    "\n",
    "print(\"Analyzing frames...\")\n",
    "for i in range(mocap.frames):\n",
    "    new_frame = process_bvhkeyframe(mocap.keyframes[i], mocap.root, mocap.dt * i)\n",
    "print(\"done\")\n",
    "\n",
    "pos_header, pos = mocap.get_frames_worldpos()\n",
    "rot_header, rot = mocap.get_frames_rotations()\n",
    "\n",
    "num_frames = mocap.frames\n",
    "num_joints = len(mocap.get_frame(0))\n",
    "\n",
    "p_full = np.zeros((num_frames, num_joints, 3))\n",
    "r_full = np.zeros((num_frames, num_joints, 3))\n",
    "timesteps = np.zeros(num_frames)\n",
    "\n",
    "for i in range(num_frames):\n",
    "    timesteps[i] = i * mocap.dt\n",
    "    for j in range(num_joints):\n",
    "        p_full[i,j,:] = np.array(pos[i][3*j+1:3*j+4]) / 100\n",
    "        r_full[i,j,:] = np.array(rot[i][3*j+1:3*j+4])\n",
    "\n",
    "p_full[:,:,1] *= -1\n",
    "p_full = p_full[:,:,[1,0,2]]\n",
    "r_full[:,:,1] *= -1\n",
    "r_full = r_full[:,:,[1,0,2]]\n",
    "\n",
    "print(\"Position shape (entire sequence): \", p_full.shape)\n",
    "print(\"Rotation shape (entire sequence): \", r_full.shape)\n",
    "\n",
    "frame_number = 0\n",
    "p = p_full[frame_number]\n",
    "r = r_full[frame_number]\n",
    "\n",
    "print(\"Position shape (single frame): \", p.shape)\n",
    "print(\"Rotation shape (single frame): \", r.shape)"
   ]
  }
 ],
 "metadata": {
  "kernelspec": {
   "display_name": "venv_b2h",
   "language": "python",
   "name": "python3"
  },
  "language_info": {
   "codemirror_mode": {
    "name": "ipython",
    "version": 3
   },
   "file_extension": ".py",
   "mimetype": "text/x-python",
   "name": "python",
   "nbconvert_exporter": "python",
   "pygments_lexer": "ipython3",
   "version": "3.9.16"
  }
 },
 "nbformat": 4,
 "nbformat_minor": 2
}
